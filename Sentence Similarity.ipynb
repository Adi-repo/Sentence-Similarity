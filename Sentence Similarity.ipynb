{
 "cells": [
  {
   "cell_type": "code",
   "execution_count": 1,
   "metadata": {},
   "outputs": [],
   "source": [
    "import pandas as pd\n",
    "df = pd.read_csv('SampleDataset.csv', encoding='latin-1')"
   ]
  },
  {
   "cell_type": "code",
   "execution_count": 2,
   "metadata": {},
   "outputs": [
    {
     "data": {
      "text/html": [
       "<div>\n",
       "<style scoped>\n",
       "    .dataframe tbody tr th:only-of-type {\n",
       "        vertical-align: middle;\n",
       "    }\n",
       "\n",
       "    .dataframe tbody tr th {\n",
       "        vertical-align: top;\n",
       "    }\n",
       "\n",
       "    .dataframe thead th {\n",
       "        text-align: right;\n",
       "    }\n",
       "</style>\n",
       "<table border=\"1\" class=\"dataframe\">\n",
       "  <thead>\n",
       "    <tr style=\"text-align: right;\">\n",
       "      <th></th>\n",
       "      <th>Sno</th>\n",
       "      <th>TECHNOLOGY</th>\n",
       "      <th>ORIGINAL/SYNONYM</th>\n",
       "      <th>QUESTION</th>\n",
       "      <th>SOLUTION</th>\n",
       "    </tr>\n",
       "  </thead>\n",
       "  <tbody>\n",
       "    <tr>\n",
       "      <th>0</th>\n",
       "      <td>1</td>\n",
       "      <td>PowerBI</td>\n",
       "      <td>Original</td>\n",
       "      <td>Issue with Power bi date slicer</td>\n",
       "      <td>If you are experiencing an issue with the date...</td>\n",
       "    </tr>\n",
       "    <tr>\n",
       "      <th>1</th>\n",
       "      <td>2</td>\n",
       "      <td>PowerBI</td>\n",
       "      <td>Synonym</td>\n",
       "      <td>What are some common issues that can arise wit...</td>\n",
       "      <td>same as above</td>\n",
       "    </tr>\n",
       "    <tr>\n",
       "      <th>2</th>\n",
       "      <td>3</td>\n",
       "      <td>PowerBI</td>\n",
       "      <td>Synonym</td>\n",
       "      <td>How do I resolve issues with the date slicer i...</td>\n",
       "      <td>Same as above</td>\n",
       "    </tr>\n",
       "    <tr>\n",
       "      <th>3</th>\n",
       "      <td>4</td>\n",
       "      <td>PowerBI</td>\n",
       "      <td>Synonym</td>\n",
       "      <td>I'm having trouble getting the date slicer in ...</td>\n",
       "      <td>Same as above</td>\n",
       "    </tr>\n",
       "    <tr>\n",
       "      <th>4</th>\n",
       "      <td>5</td>\n",
       "      <td>PowerBI</td>\n",
       "      <td>Synonym</td>\n",
       "      <td>What could be causing the date slicer in Power...</td>\n",
       "      <td>Same as above</td>\n",
       "    </tr>\n",
       "  </tbody>\n",
       "</table>\n",
       "</div>"
      ],
      "text/plain": [
       "   Sno TECHNOLOGY ORIGINAL/SYNONYM  \\\n",
       "0    1    PowerBI         Original   \n",
       "1    2    PowerBI          Synonym   \n",
       "2    3    PowerBI         Synonym    \n",
       "3    4    PowerBI         Synonym    \n",
       "4    5    PowerBI         Synonym    \n",
       "\n",
       "                                            QUESTION  \\\n",
       "0                    Issue with Power bi date slicer   \n",
       "1  What are some common issues that can arise wit...   \n",
       "2  How do I resolve issues with the date slicer i...   \n",
       "3  I'm having trouble getting the date slicer in ...   \n",
       "4  What could be causing the date slicer in Power...   \n",
       "\n",
       "                                            SOLUTION  \n",
       "0  If you are experiencing an issue with the date...  \n",
       "1                                      same as above  \n",
       "2                                      Same as above  \n",
       "3                                      Same as above  \n",
       "4                                      Same as above  "
      ]
     },
     "execution_count": 2,
     "metadata": {},
     "output_type": "execute_result"
    }
   ],
   "source": [
    "df.head()"
   ]
  },
  {
   "cell_type": "code",
   "execution_count": 3,
   "metadata": {},
   "outputs": [
    {
     "data": {
      "text/html": [
       "<div>\n",
       "<style scoped>\n",
       "    .dataframe tbody tr th:only-of-type {\n",
       "        vertical-align: middle;\n",
       "    }\n",
       "\n",
       "    .dataframe tbody tr th {\n",
       "        vertical-align: top;\n",
       "    }\n",
       "\n",
       "    .dataframe thead th {\n",
       "        text-align: right;\n",
       "    }\n",
       "</style>\n",
       "<table border=\"1\" class=\"dataframe\">\n",
       "  <thead>\n",
       "    <tr style=\"text-align: right;\">\n",
       "      <th></th>\n",
       "      <th>Sno</th>\n",
       "      <th>TECHNOLOGY</th>\n",
       "      <th>ORIGINAL/SYNONYM</th>\n",
       "      <th>QUESTION</th>\n",
       "      <th>SOLUTION</th>\n",
       "      <th>Sentence</th>\n",
       "    </tr>\n",
       "  </thead>\n",
       "  <tbody>\n",
       "    <tr>\n",
       "      <th>0</th>\n",
       "      <td>1</td>\n",
       "      <td>PowerBI</td>\n",
       "      <td>Original</td>\n",
       "      <td>Issue with Power bi date slicer</td>\n",
       "      <td>If you are experiencing an issue with the date...</td>\n",
       "      <td>PowerBI - Issue with Power bi date slicer</td>\n",
       "    </tr>\n",
       "    <tr>\n",
       "      <th>1</th>\n",
       "      <td>2</td>\n",
       "      <td>PowerBI</td>\n",
       "      <td>Synonym</td>\n",
       "      <td>What are some common issues that can arise wit...</td>\n",
       "      <td>same as above</td>\n",
       "      <td>PowerBI - What are some common issues that can...</td>\n",
       "    </tr>\n",
       "    <tr>\n",
       "      <th>2</th>\n",
       "      <td>3</td>\n",
       "      <td>PowerBI</td>\n",
       "      <td>Synonym</td>\n",
       "      <td>How do I resolve issues with the date slicer i...</td>\n",
       "      <td>Same as above</td>\n",
       "      <td>PowerBI - How do I resolve issues with the dat...</td>\n",
       "    </tr>\n",
       "    <tr>\n",
       "      <th>3</th>\n",
       "      <td>4</td>\n",
       "      <td>PowerBI</td>\n",
       "      <td>Synonym</td>\n",
       "      <td>I'm having trouble getting the date slicer in ...</td>\n",
       "      <td>Same as above</td>\n",
       "      <td>PowerBI - I'm having trouble getting the date ...</td>\n",
       "    </tr>\n",
       "    <tr>\n",
       "      <th>4</th>\n",
       "      <td>5</td>\n",
       "      <td>PowerBI</td>\n",
       "      <td>Synonym</td>\n",
       "      <td>What could be causing the date slicer in Power...</td>\n",
       "      <td>Same as above</td>\n",
       "      <td>PowerBI - What could be causing the date slice...</td>\n",
       "    </tr>\n",
       "  </tbody>\n",
       "</table>\n",
       "</div>"
      ],
      "text/plain": [
       "   Sno TECHNOLOGY ORIGINAL/SYNONYM  \\\n",
       "0    1    PowerBI         Original   \n",
       "1    2    PowerBI          Synonym   \n",
       "2    3    PowerBI         Synonym    \n",
       "3    4    PowerBI         Synonym    \n",
       "4    5    PowerBI         Synonym    \n",
       "\n",
       "                                            QUESTION  \\\n",
       "0                    Issue with Power bi date slicer   \n",
       "1  What are some common issues that can arise wit...   \n",
       "2  How do I resolve issues with the date slicer i...   \n",
       "3  I'm having trouble getting the date slicer in ...   \n",
       "4  What could be causing the date slicer in Power...   \n",
       "\n",
       "                                            SOLUTION  \\\n",
       "0  If you are experiencing an issue with the date...   \n",
       "1                                      same as above   \n",
       "2                                      Same as above   \n",
       "3                                      Same as above   \n",
       "4                                      Same as above   \n",
       "\n",
       "                                            Sentence  \n",
       "0          PowerBI - Issue with Power bi date slicer  \n",
       "1  PowerBI - What are some common issues that can...  \n",
       "2  PowerBI - How do I resolve issues with the dat...  \n",
       "3  PowerBI - I'm having trouble getting the date ...  \n",
       "4  PowerBI - What could be causing the date slice...  "
      ]
     },
     "execution_count": 3,
     "metadata": {},
     "output_type": "execute_result"
    }
   ],
   "source": [
    "df['Sentence'] = df['TECHNOLOGY'] + \" - \" + df['QUESTION']\n",
    "df.head()"
   ]
  },
  {
   "cell_type": "code",
   "execution_count": 4,
   "metadata": {},
   "outputs": [
    {
     "data": {
      "text/plain": [
       "['PowerBI - What are some common issues that can arise with the date slicer in Power BI, and how can I troubleshoot them?',\n",
       " 'PowerBI - How do I resolve issues with the date slicer in Power BI when it is not \\nfiltering data correctly or not displaying all available dates?',\n",
       " \"PowerBI - I'm having trouble getting the date slicer in Power BI to work properly. Are \\nthere any specific settings or configurations I should check to resolve the issue?\",\n",
       " 'PowerBI - What could be causing the date slicer in Power BI to malfunction, and what \\nsteps can I take to fix it?',\n",
       " 'PowerBI - Can you provide any guidance on troubleshooting problems with the date \\nslicer in Power BI, particularly when it comes to issues with filtering or interaction with other visuals and filters?',\n",
       " 'PowerBI - The date slicer is not filtering data correctly',\n",
       " 'PowerBI - What should I do if my Power BI date slicer is not filtering data correctly?']"
      ]
     },
     "execution_count": 4,
     "metadata": {},
     "output_type": "execute_result"
    }
   ],
   "source": [
    "sentences = []\n",
    "for row in df['Sentence']:\n",
    "    sentences.append(row)\n",
    "sentences[1:8]"
   ]
  },
  {
   "cell_type": "code",
   "execution_count": 5,
   "metadata": {},
   "outputs": [
    {
     "name": "stdout",
     "output_type": "stream",
     "text": [
      "[[-0.05455767  0.07401682  0.00639783 ... -0.04954586 -0.05768156\n",
      "  -0.02505917]\n",
      " [-0.04970558  0.03084414  0.01144504 ... -0.06109059 -0.07576088\n",
      "  -0.01194993]\n",
      " [-0.00439032  0.06759153  0.00364703 ... -0.05403583 -0.07599875\n",
      "   0.00057956]\n",
      " ...\n",
      " [-0.01956023 -0.06185008 -0.05478382 ... -0.03913626  0.02141256\n",
      "  -0.06274449]\n",
      " [-0.00899348 -0.08685958 -0.05075125 ... -0.04794437  0.02407051\n",
      "  -0.07409859]\n",
      " [-0.03058355 -0.07275829 -0.05993147 ... -0.06807294  0.05030226\n",
      "  -0.06599381]]\n"
     ]
    }
   ],
   "source": [
    "from sentence_transformers import SentenceTransformer\n",
    "\n",
    "model = SentenceTransformer('sentence-transformers/all-MiniLM-L6-v2')\n",
    "embeddings = model.encode(sentences)\n",
    "print(embeddings)"
   ]
  },
  {
   "cell_type": "code",
   "execution_count": 6,
   "metadata": {},
   "outputs": [
    {
     "name": "stdout",
     "output_type": "stream",
     "text": [
      "360\n",
      "384\n"
     ]
    }
   ],
   "source": [
    "print(len(embeddings))\n",
    "print(len(embeddings[0]))"
   ]
  },
  {
   "cell_type": "code",
   "execution_count": 7,
   "metadata": {},
   "outputs": [
    {
     "name": "stdout",
     "output_type": "stream",
     "text": [
      "[[0.91687393]]\n",
      "[[0.19741663]]\n"
     ]
    }
   ],
   "source": [
    "from sklearn.metrics.pairwise import cosine_similarity\n",
    "print(cosine_similarity(embeddings[0].reshape(1,-1),embeddings[1].reshape(1,-1)))\n",
    "print(cosine_similarity(embeddings[0].reshape(1,-1),embeddings[102].reshape(1,-1)))"
   ]
  },
  {
   "cell_type": "code",
   "execution_count": 8,
   "metadata": {},
   "outputs": [],
   "source": [
    "answer = []\n",
    "for index, val in enumerate(df['ORIGINAL/SYNONYM']):\n",
    "    if str(val) == \"Original\":\n",
    "        answer.append(index)"
   ]
  },
  {
   "cell_type": "code",
   "execution_count": 9,
   "metadata": {},
   "outputs": [
    {
     "name": "stdout",
     "output_type": "stream",
     "text": [
      "Enter a sentence: PowerBI - I am trying to create a dashboard. I used date slicer to filter dates to reflect data on the table. There are data in table till 2022 but the data slicer is moved beyond 4/31/2021 is not showing data in the tables\n"
     ]
    }
   ],
   "source": [
    "text = input(\"Enter a sentence: \")"
   ]
  },
  {
   "cell_type": "code",
   "execution_count": 10,
   "metadata": {},
   "outputs": [],
   "source": [
    "text_embedding = model.encode(text)"
   ]
  },
  {
   "cell_type": "code",
   "execution_count": 11,
   "metadata": {},
   "outputs": [
    {
     "name": "stdout",
     "output_type": "stream",
     "text": [
      "The Cosine Similarity between the Sentences is: 0.77476656\n"
     ]
    }
   ],
   "source": [
    "ind = 0\n",
    "sim = 0\n",
    "for index, val in enumerate(embeddings):\n",
    "    res = cosine_similarity(text_embedding.reshape(1,-1),embeddings[index].reshape(1,-1))\n",
    "    if res[0][0] > sim:\n",
    "        sim = res[0][0]\n",
    "        ind = index\n",
    "print(\"The Cosine Similarity between the Sentences is:\", sim)"
   ]
  },
  {
   "cell_type": "code",
   "execution_count": 12,
   "metadata": {},
   "outputs": [
    {
     "name": "stdout",
     "output_type": "stream",
     "text": [
      "If you are experiencing an issue with the date slicer in Power BI, there could be several reasons why this is happening. Here are some common issues and their potential solutions:\n",
      "1. The date slicer is not filtering data correctly: This could be due to incorrect data type or formatting of the date column in the data source. To resolve this issue, check the data type of the date column and ensure that it matches the format of the date slicer.\n",
      "2. The date slicer is not displaying all the available dates: This could be due to the range of dates selected in the slicer. To resolve this issue, adjust the range of dates displayed in the slicer or increase the granularity of the slicer.\n",
      "3. The date slicer is not working at all: This could be due to a corrupted Power BI file or a bug in the Power BI software. To resolve this issue, try restarting Power BI or creating a new file and recreating the date slicer.\n",
      "4. The date slicer is not interacting with other visuals or filters: This could be due to the order of the visuals in the report page or incorrect interaction settings. To resolve this issue, adjust the order of the visuals or update the interaction settings to ensure that the date slicer is interacting with the desired visuals and filters.\n",
      "If the issue persists, you may need to consult with a Power BI expert or Microsoft Support for further assistance.\n"
     ]
    }
   ],
   "source": [
    "for i in range(len(answer)):\n",
    "    if answer[i] > ind:\n",
    "        print(df['SOLUTION'][answer[i - 1]])\n",
    "        break"
   ]
  }
 ],
 "metadata": {
  "kernelspec": {
   "display_name": "Python 3",
   "language": "python",
   "name": "python3"
  },
  "language_info": {
   "codemirror_mode": {
    "name": "ipython",
    "version": 3
   },
   "file_extension": ".py",
   "mimetype": "text/x-python",
   "name": "python",
   "nbconvert_exporter": "python",
   "pygments_lexer": "ipython3",
   "version": "3.8.8"
  }
 },
 "nbformat": 4,
 "nbformat_minor": 2
}
