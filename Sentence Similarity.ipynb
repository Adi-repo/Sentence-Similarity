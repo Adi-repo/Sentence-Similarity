{
 "cells": [
  {
   "cell_type": "code",
   "execution_count": 2,
   "metadata": {},
   "outputs": [],
   "source": [
    "import pandas as pd\n",
    "df = pd.read_csv('SampleDataset.csv', encoding='latin-1')"
   ]
  },
  {
   "cell_type": "code",
   "execution_count": 3,
   "metadata": {},
   "outputs": [
    {
     "data": {
      "text/html": [
       "<div>\n",
       "<style scoped>\n",
       "    .dataframe tbody tr th:only-of-type {\n",
       "        vertical-align: middle;\n",
       "    }\n",
       "\n",
       "    .dataframe tbody tr th {\n",
       "        vertical-align: top;\n",
       "    }\n",
       "\n",
       "    .dataframe thead th {\n",
       "        text-align: right;\n",
       "    }\n",
       "</style>\n",
       "<table border=\"1\" class=\"dataframe\">\n",
       "  <thead>\n",
       "    <tr style=\"text-align: right;\">\n",
       "      <th></th>\n",
       "      <th>Sno</th>\n",
       "      <th>TECHNOLOGY</th>\n",
       "      <th>ORIGINAL/SYNONYM</th>\n",
       "      <th>QUESTION</th>\n",
       "      <th>SOLUTION</th>\n",
       "    </tr>\n",
       "  </thead>\n",
       "  <tbody>\n",
       "    <tr>\n",
       "      <th>0</th>\n",
       "      <td>1</td>\n",
       "      <td>PowerBI</td>\n",
       "      <td>Original</td>\n",
       "      <td>Issue with Power bi date slicer</td>\n",
       "      <td>If you are experiencing an issue with the date...</td>\n",
       "    </tr>\n",
       "    <tr>\n",
       "      <th>1</th>\n",
       "      <td>2</td>\n",
       "      <td>PowerBI</td>\n",
       "      <td>Synonym</td>\n",
       "      <td>What are some common issues that can arise wit...</td>\n",
       "      <td>same as above</td>\n",
       "    </tr>\n",
       "    <tr>\n",
       "      <th>2</th>\n",
       "      <td>3</td>\n",
       "      <td>PowerBI</td>\n",
       "      <td>Synonym</td>\n",
       "      <td>How do I resolve issues with the date slicer i...</td>\n",
       "      <td>Same as above</td>\n",
       "    </tr>\n",
       "    <tr>\n",
       "      <th>3</th>\n",
       "      <td>4</td>\n",
       "      <td>PowerBI</td>\n",
       "      <td>Synonym</td>\n",
       "      <td>I'm having trouble getting the date slicer in ...</td>\n",
       "      <td>Same as above</td>\n",
       "    </tr>\n",
       "    <tr>\n",
       "      <th>4</th>\n",
       "      <td>5</td>\n",
       "      <td>PowerBI</td>\n",
       "      <td>Synonym</td>\n",
       "      <td>What could be causing the date slicer in Power...</td>\n",
       "      <td>Same as above</td>\n",
       "    </tr>\n",
       "  </tbody>\n",
       "</table>\n",
       "</div>"
      ],
      "text/plain": [
       "   Sno TECHNOLOGY ORIGINAL/SYNONYM  \\\n",
       "0    1    PowerBI         Original   \n",
       "1    2    PowerBI          Synonym   \n",
       "2    3    PowerBI         Synonym    \n",
       "3    4    PowerBI         Synonym    \n",
       "4    5    PowerBI         Synonym    \n",
       "\n",
       "                                            QUESTION  \\\n",
       "0                    Issue with Power bi date slicer   \n",
       "1  What are some common issues that can arise wit...   \n",
       "2  How do I resolve issues with the date slicer i...   \n",
       "3  I'm having trouble getting the date slicer in ...   \n",
       "4  What could be causing the date slicer in Power...   \n",
       "\n",
       "                                            SOLUTION  \n",
       "0  If you are experiencing an issue with the date...  \n",
       "1                                      same as above  \n",
       "2                                      Same as above  \n",
       "3                                      Same as above  \n",
       "4                                      Same as above  "
      ]
     },
     "execution_count": 3,
     "metadata": {},
     "output_type": "execute_result"
    }
   ],
   "source": [
    "df.head()"
   ]
  },
  {
   "cell_type": "code",
   "execution_count": 6,
   "metadata": {},
   "outputs": [
    {
     "data": {
      "text/html": [
       "<div>\n",
       "<style scoped>\n",
       "    .dataframe tbody tr th:only-of-type {\n",
       "        vertical-align: middle;\n",
       "    }\n",
       "\n",
       "    .dataframe tbody tr th {\n",
       "        vertical-align: top;\n",
       "    }\n",
       "\n",
       "    .dataframe thead th {\n",
       "        text-align: right;\n",
       "    }\n",
       "</style>\n",
       "<table border=\"1\" class=\"dataframe\">\n",
       "  <thead>\n",
       "    <tr style=\"text-align: right;\">\n",
       "      <th></th>\n",
       "      <th>Sno</th>\n",
       "      <th>TECHNOLOGY</th>\n",
       "      <th>ORIGINAL/SYNONYM</th>\n",
       "      <th>QUESTION</th>\n",
       "      <th>SOLUTION</th>\n",
       "      <th>Sentence</th>\n",
       "    </tr>\n",
       "  </thead>\n",
       "  <tbody>\n",
       "    <tr>\n",
       "      <th>0</th>\n",
       "      <td>1</td>\n",
       "      <td>PowerBI</td>\n",
       "      <td>Original</td>\n",
       "      <td>Issue with Power bi date slicer</td>\n",
       "      <td>If you are experiencing an issue with the date...</td>\n",
       "      <td>PowerBI - Issue with Power bi date slicer</td>\n",
       "    </tr>\n",
       "    <tr>\n",
       "      <th>1</th>\n",
       "      <td>2</td>\n",
       "      <td>PowerBI</td>\n",
       "      <td>Synonym</td>\n",
       "      <td>What are some common issues that can arise wit...</td>\n",
       "      <td>same as above</td>\n",
       "      <td>PowerBI - What are some common issues that can...</td>\n",
       "    </tr>\n",
       "    <tr>\n",
       "      <th>2</th>\n",
       "      <td>3</td>\n",
       "      <td>PowerBI</td>\n",
       "      <td>Synonym</td>\n",
       "      <td>How do I resolve issues with the date slicer i...</td>\n",
       "      <td>Same as above</td>\n",
       "      <td>PowerBI - How do I resolve issues with the dat...</td>\n",
       "    </tr>\n",
       "    <tr>\n",
       "      <th>3</th>\n",
       "      <td>4</td>\n",
       "      <td>PowerBI</td>\n",
       "      <td>Synonym</td>\n",
       "      <td>I'm having trouble getting the date slicer in ...</td>\n",
       "      <td>Same as above</td>\n",
       "      <td>PowerBI - I'm having trouble getting the date ...</td>\n",
       "    </tr>\n",
       "    <tr>\n",
       "      <th>4</th>\n",
       "      <td>5</td>\n",
       "      <td>PowerBI</td>\n",
       "      <td>Synonym</td>\n",
       "      <td>What could be causing the date slicer in Power...</td>\n",
       "      <td>Same as above</td>\n",
       "      <td>PowerBI - What could be causing the date slice...</td>\n",
       "    </tr>\n",
       "  </tbody>\n",
       "</table>\n",
       "</div>"
      ],
      "text/plain": [
       "   Sno TECHNOLOGY ORIGINAL/SYNONYM  \\\n",
       "0    1    PowerBI         Original   \n",
       "1    2    PowerBI          Synonym   \n",
       "2    3    PowerBI         Synonym    \n",
       "3    4    PowerBI         Synonym    \n",
       "4    5    PowerBI         Synonym    \n",
       "\n",
       "                                            QUESTION  \\\n",
       "0                    Issue with Power bi date slicer   \n",
       "1  What are some common issues that can arise wit...   \n",
       "2  How do I resolve issues with the date slicer i...   \n",
       "3  I'm having trouble getting the date slicer in ...   \n",
       "4  What could be causing the date slicer in Power...   \n",
       "\n",
       "                                            SOLUTION  \\\n",
       "0  If you are experiencing an issue with the date...   \n",
       "1                                      same as above   \n",
       "2                                      Same as above   \n",
       "3                                      Same as above   \n",
       "4                                      Same as above   \n",
       "\n",
       "                                            Sentence  \n",
       "0          PowerBI - Issue with Power bi date slicer  \n",
       "1  PowerBI - What are some common issues that can...  \n",
       "2  PowerBI - How do I resolve issues with the dat...  \n",
       "3  PowerBI - I'm having trouble getting the date ...  \n",
       "4  PowerBI - What could be causing the date slice...  "
      ]
     },
     "execution_count": 6,
     "metadata": {},
     "output_type": "execute_result"
    }
   ],
   "source": [
    "df['Sentence'] = df['TECHNOLOGY'] + \" - \" + df['QUESTION']\n",
    "df.head()\n"
   ]
  },
  {
   "cell_type": "code",
   "execution_count": 9,
   "metadata": {},
   "outputs": [
    {
     "data": {
      "text/plain": [
       "['PowerBI - What are some common issues that can arise with the date slicer in Power BI, and how can I troubleshoot them?',\n",
       " 'PowerBI - How do I resolve issues with the date slicer in Power BI when it is not \\nfiltering data correctly or not displaying all available dates?',\n",
       " \"PowerBI - I'm having trouble getting the date slicer in Power BI to work properly. Are \\nthere any specific settings or configurations I should check to resolve the issue?\",\n",
       " 'PowerBI - What could be causing the date slicer in Power BI to malfunction, and what \\nsteps can I take to fix it?',\n",
       " 'PowerBI - Can you provide any guidance on troubleshooting problems with the date \\nslicer in Power BI, particularly when it comes to issues with filtering or interaction with other visuals and filters?',\n",
       " 'PowerBI - The date slicer is not filtering data correctly',\n",
       " 'PowerBI - What should I do if my Power BI date slicer is not filtering data correctly?']"
      ]
     },
     "execution_count": 9,
     "metadata": {},
     "output_type": "execute_result"
    }
   ],
   "source": [
    "sentences = []\n",
    "for row in df['Sentence']:\n",
    "    sentences.append(row)\n",
    "sentences[1:8]"
   ]
  },
  {
   "cell_type": "code",
   "execution_count": 11,
   "metadata": {},
   "outputs": [
    {
     "data": {
      "application/vnd.jupyter.widget-view+json": {
       "model_id": "36e9ceac5416466b81891ef1bda8ca79",
       "version_major": 2,
       "version_minor": 0
      },
      "text/plain": [
       "Downloading (…)e9125/.gitattributes:   0%|          | 0.00/1.18k [00:00<?, ?B/s]"
      ]
     },
     "metadata": {},
     "output_type": "display_data"
    },
    {
     "data": {
      "application/vnd.jupyter.widget-view+json": {
       "model_id": "9dc334832c92418499f4b37008d1eb54",
       "version_major": 2,
       "version_minor": 0
      },
      "text/plain": [
       "Downloading (…)_Pooling/config.json:   0%|          | 0.00/190 [00:00<?, ?B/s]"
      ]
     },
     "metadata": {},
     "output_type": "display_data"
    },
    {
     "data": {
      "application/vnd.jupyter.widget-view+json": {
       "model_id": "1e2cb6ed51f44dd4b89a0da615408ff8",
       "version_major": 2,
       "version_minor": 0
      },
      "text/plain": [
       "Downloading (…)7e55de9125/README.md:   0%|          | 0.00/10.6k [00:00<?, ?B/s]"
      ]
     },
     "metadata": {},
     "output_type": "display_data"
    },
    {
     "data": {
      "application/vnd.jupyter.widget-view+json": {
       "model_id": "f43ae39c855b4d0d9567a19cc735efe7",
       "version_major": 2,
       "version_minor": 0
      },
      "text/plain": [
       "Downloading (…)55de9125/config.json:   0%|          | 0.00/612 [00:00<?, ?B/s]"
      ]
     },
     "metadata": {},
     "output_type": "display_data"
    },
    {
     "data": {
      "application/vnd.jupyter.widget-view+json": {
       "model_id": "1b3655f67b344b9b8c0c7bca4c878a53",
       "version_major": 2,
       "version_minor": 0
      },
      "text/plain": [
       "Downloading (…)ce_transformers.json:   0%|          | 0.00/116 [00:00<?, ?B/s]"
      ]
     },
     "metadata": {},
     "output_type": "display_data"
    },
    {
     "data": {
      "application/vnd.jupyter.widget-view+json": {
       "model_id": "3e04ffa78c1f41ab940e7014c0089d63",
       "version_major": 2,
       "version_minor": 0
      },
      "text/plain": [
       "Downloading (…)125/data_config.json:   0%|          | 0.00/39.3k [00:00<?, ?B/s]"
      ]
     },
     "metadata": {},
     "output_type": "display_data"
    },
    {
     "data": {
      "application/vnd.jupyter.widget-view+json": {
       "model_id": "fc2688e9636f440db1e276243e0c0934",
       "version_major": 2,
       "version_minor": 0
      },
      "text/plain": [
       "Downloading pytorch_model.bin:   0%|          | 0.00/90.9M [00:00<?, ?B/s]"
      ]
     },
     "metadata": {},
     "output_type": "display_data"
    },
    {
     "data": {
      "application/vnd.jupyter.widget-view+json": {
       "model_id": "75c789503a2f4132ac39669de5bac131",
       "version_major": 2,
       "version_minor": 0
      },
      "text/plain": [
       "Downloading (…)nce_bert_config.json:   0%|          | 0.00/53.0 [00:00<?, ?B/s]"
      ]
     },
     "metadata": {},
     "output_type": "display_data"
    },
    {
     "data": {
      "application/vnd.jupyter.widget-view+json": {
       "model_id": "8f3eb9c0066643e0b44d618ec1edb8fd",
       "version_major": 2,
       "version_minor": 0
      },
      "text/plain": [
       "Downloading (…)cial_tokens_map.json:   0%|          | 0.00/112 [00:00<?, ?B/s]"
      ]
     },
     "metadata": {},
     "output_type": "display_data"
    },
    {
     "data": {
      "application/vnd.jupyter.widget-view+json": {
       "model_id": "6f1634c4e6bb44e28b8902ff1a0d6b41",
       "version_major": 2,
       "version_minor": 0
      },
      "text/plain": [
       "Downloading (…)e9125/tokenizer.json:   0%|          | 0.00/466k [00:00<?, ?B/s]"
      ]
     },
     "metadata": {},
     "output_type": "display_data"
    },
    {
     "data": {
      "application/vnd.jupyter.widget-view+json": {
       "model_id": "b5cb9745e6644b63ac9631571fb80510",
       "version_major": 2,
       "version_minor": 0
      },
      "text/plain": [
       "Downloading (…)okenizer_config.json:   0%|          | 0.00/350 [00:00<?, ?B/s]"
      ]
     },
     "metadata": {},
     "output_type": "display_data"
    },
    {
     "data": {
      "application/vnd.jupyter.widget-view+json": {
       "model_id": "1c4d75e11cd646f49198b7ddf2281219",
       "version_major": 2,
       "version_minor": 0
      },
      "text/plain": [
       "Downloading (…)9125/train_script.py:   0%|          | 0.00/13.2k [00:00<?, ?B/s]"
      ]
     },
     "metadata": {},
     "output_type": "display_data"
    },
    {
     "data": {
      "application/vnd.jupyter.widget-view+json": {
       "model_id": "6b7b043f05fe4d25840465cc5a3d28ae",
       "version_major": 2,
       "version_minor": 0
      },
      "text/plain": [
       "Downloading (…)7e55de9125/vocab.txt:   0%|          | 0.00/232k [00:00<?, ?B/s]"
      ]
     },
     "metadata": {},
     "output_type": "display_data"
    },
    {
     "data": {
      "application/vnd.jupyter.widget-view+json": {
       "model_id": "4d3d61f3cd3f42fdab69c65e70aec416",
       "version_major": 2,
       "version_minor": 0
      },
      "text/plain": [
       "Downloading (…)5de9125/modules.json:   0%|          | 0.00/349 [00:00<?, ?B/s]"
      ]
     },
     "metadata": {},
     "output_type": "display_data"
    },
    {
     "name": "stdout",
     "output_type": "stream",
     "text": [
      "[[-0.05455767  0.07401679  0.00639784 ... -0.04954587 -0.05768153\n",
      "  -0.02505915]\n",
      " [-0.04970559  0.03084412  0.01144503 ... -0.0610906  -0.07576085\n",
      "  -0.01194992]\n",
      " [-0.0043903   0.06759154  0.003647   ... -0.05403585 -0.07599874\n",
      "   0.00057957]\n",
      " ...\n",
      " [-0.01956022 -0.0618501  -0.05478379 ... -0.03913625  0.02141253\n",
      "  -0.06274448]\n",
      " [-0.00899356 -0.08685962 -0.05075131 ... -0.04794435  0.02407048\n",
      "  -0.0740986 ]\n",
      " [-0.03058353 -0.07275827 -0.0599315  ... -0.06807294  0.05030227\n",
      "  -0.06599381]]\n"
     ]
    }
   ],
   "source": [
    "from sentence_transformers import SentenceTransformer\n",
    "\n",
    "model = SentenceTransformer('sentence-transformers/all-MiniLM-L6-v2')\n",
    "embeddings = model.encode(sentences)\n",
    "print(embeddings)"
   ]
  },
  {
   "cell_type": "code",
   "execution_count": 12,
   "metadata": {},
   "outputs": [
    {
     "data": {
      "application/vnd.jupyter.widget-view+json": {
       "model_id": "58f989a3eaaa4b0185413f6c60713e85",
       "version_major": 2,
       "version_minor": 0
      },
      "text/plain": [
       "Downloading (…)okenizer_config.json:   0%|          | 0.00/350 [00:00<?, ?B/s]"
      ]
     },
     "metadata": {},
     "output_type": "display_data"
    },
    {
     "name": "stderr",
     "output_type": "stream",
     "text": [
      "d:\\Anaconda\\envs\\IntelAPI\\lib\\site-packages\\huggingface_hub\\file_download.py:133: UserWarning: `huggingface_hub` cache-system uses symlinks by default to efficiently store duplicated files but your machine does not support them in C:\\Users\\Aditya Singh\\.cache\\huggingface\\hub. Caching files will still work but in a degraded version that might require more space on your disk. This warning can be disabled by setting the `HF_HUB_DISABLE_SYMLINKS_WARNING` environment variable. For more details, see https://huggingface.co/docs/huggingface_hub/how-to-cache#limitations.\n",
      "To support symlinks on Windows, you either need to activate Developer Mode or to run Python as an administrator. In order to see activate developer mode, see this article: https://docs.microsoft.com/en-us/windows/apps/get-started/enable-your-device-for-development\n",
      "  warnings.warn(message)\n"
     ]
    },
    {
     "data": {
      "application/vnd.jupyter.widget-view+json": {
       "model_id": "ca21f6d2b81a452993bb6f61b5ce8d76",
       "version_major": 2,
       "version_minor": 0
      },
      "text/plain": [
       "Downloading (…)solve/main/vocab.txt:   0%|          | 0.00/232k [00:00<?, ?B/s]"
      ]
     },
     "metadata": {},
     "output_type": "display_data"
    },
    {
     "data": {
      "application/vnd.jupyter.widget-view+json": {
       "model_id": "1f47523cd7ce444f8741b4695073bc63",
       "version_major": 2,
       "version_minor": 0
      },
      "text/plain": [
       "Downloading (…)/main/tokenizer.json:   0%|          | 0.00/466k [00:00<?, ?B/s]"
      ]
     },
     "metadata": {},
     "output_type": "display_data"
    },
    {
     "data": {
      "application/vnd.jupyter.widget-view+json": {
       "model_id": "7231c94f001f4914a62a1aad2c76e4f5",
       "version_major": 2,
       "version_minor": 0
      },
      "text/plain": [
       "Downloading (…)cial_tokens_map.json:   0%|          | 0.00/112 [00:00<?, ?B/s]"
      ]
     },
     "metadata": {},
     "output_type": "display_data"
    },
    {
     "data": {
      "application/vnd.jupyter.widget-view+json": {
       "model_id": "d81f5c36beff4e61beaa1d036259ad6b",
       "version_major": 2,
       "version_minor": 0
      },
      "text/plain": [
       "Downloading (…)lve/main/config.json:   0%|          | 0.00/612 [00:00<?, ?B/s]"
      ]
     },
     "metadata": {},
     "output_type": "display_data"
    },
    {
     "data": {
      "application/vnd.jupyter.widget-view+json": {
       "model_id": "c0aa63a7acf547af881f47b145ba1235",
       "version_major": 2,
       "version_minor": 0
      },
      "text/plain": [
       "Downloading pytorch_model.bin:   0%|          | 0.00/90.9M [00:00<?, ?B/s]"
      ]
     },
     "metadata": {},
     "output_type": "display_data"
    },
    {
     "name": "stdout",
     "output_type": "stream",
     "text": [
      "Sentence embeddings:\n",
      "tensor([[-0.0546,  0.0740,  0.0064,  ..., -0.0495, -0.0577, -0.0251],\n",
      "        [-0.0497,  0.0308,  0.0114,  ..., -0.0611, -0.0758, -0.0119],\n",
      "        [-0.0044,  0.0676,  0.0036,  ..., -0.0540, -0.0760,  0.0006],\n",
      "        ...,\n",
      "        [-0.0196, -0.0619, -0.0548,  ..., -0.0391,  0.0214, -0.0627],\n",
      "        [-0.0090, -0.0869, -0.0508,  ..., -0.0479,  0.0241, -0.0741],\n",
      "        [-0.0306, -0.0728, -0.0599,  ..., -0.0681,  0.0503, -0.0660]])\n"
     ]
    }
   ],
   "source": [
    "from transformers import AutoTokenizer, AutoModel\n",
    "import torch\n",
    "import torch.nn.functional as F\n",
    "\n",
    "#Mean Pooling - Take attention mask into account for correct averaging\n",
    "def mean_pooling(model_output, attention_mask):\n",
    "    token_embeddings = model_output[0] #First element of model_output contains all token embeddings\n",
    "    input_mask_expanded = attention_mask.unsqueeze(-1).expand(token_embeddings.size()).float()\n",
    "    return torch.sum(token_embeddings * input_mask_expanded, 1) / torch.clamp(input_mask_expanded.sum(1), min=1e-9)\n",
    "\n",
    "# Load model from HuggingFace Hub\n",
    "tokenizer = AutoTokenizer.from_pretrained('sentence-transformers/all-MiniLM-L6-v2')\n",
    "model = AutoModel.from_pretrained('sentence-transformers/all-MiniLM-L6-v2')\n",
    "\n",
    "# Tokenize sentences\n",
    "encoded_input = tokenizer(sentences, padding=True, truncation=True, return_tensors='pt')\n",
    "\n",
    "# Compute token embeddings\n",
    "with torch.no_grad():\n",
    "    model_output = model(**encoded_input)\n",
    "\n",
    "# Perform pooling\n",
    "sentence_embeddings = mean_pooling(model_output, encoded_input['attention_mask'])\n",
    "\n",
    "# Normalize embeddings\n",
    "sentence_embeddings = F.normalize(sentence_embeddings, p=2, dim=1)\n",
    "\n",
    "print(\"Sentence embeddings:\")\n",
    "print(sentence_embeddings)\n"
   ]
  },
  {
   "cell_type": "code",
   "execution_count": 13,
   "metadata": {},
   "outputs": [
    {
     "name": "stdout",
     "output_type": "stream",
     "text": [
      "360\n",
      "384\n"
     ]
    }
   ],
   "source": [
    "print(len(sentence_embeddings))\n",
    "print(len(sentence_embeddings[0]))"
   ]
  },
  {
   "cell_type": "code",
   "execution_count": 14,
   "metadata": {},
   "outputs": [
    {
     "name": "stdout",
     "output_type": "stream",
     "text": [
      "[[0.91687405]]\n",
      "[[0.1974166]]\n"
     ]
    }
   ],
   "source": [
    "from sklearn.metrics.pairwise import cosine_similarity\n",
    "print(cosine_similarity(embeddings[0].reshape(1,-1),embeddings[1].reshape(1,-1)))\n",
    "print(cosine_similarity(embeddings[0].reshape(1,-1),embeddings[102].reshape(1,-1)))"
   ]
  }
 ],
 "metadata": {
  "kernelspec": {
   "display_name": "IntelAPI",
   "language": "python",
   "name": "intelapi"
  },
  "language_info": {
   "codemirror_mode": {
    "name": "ipython",
    "version": 3
   },
   "file_extension": ".py",
   "mimetype": "text/x-python",
   "name": "python",
   "nbconvert_exporter": "python",
   "pygments_lexer": "ipython3",
   "version": "3.8.16"
  },
  "orig_nbformat": 4
 },
 "nbformat": 4,
 "nbformat_minor": 2
}
